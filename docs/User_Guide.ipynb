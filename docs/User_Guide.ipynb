{
 "cells": [
  {
   "cell_type": "markdown",
   "id": "2765c347",
   "metadata": {},
   "source": [
    "# User Guide of the CryptographicEstimators Library "
   ]
  },
  {
   "cell_type": "markdown",
   "id": "7d27422e",
   "metadata": {},
   "source": [
    "This document serves as a guide to use the _CyptographicEstimators_ library. This is an open source project to estimate the hardness of computational problems relevant in cryptography. The source code is available [here](https://github.com/Crypto-TII/cryptographic_estimators)."
   ]
  },
  {
   "cell_type": "markdown",
   "id": "39b77459",
   "metadata": {},
   "source": [
    "## 1.  Pre-requisites and installation of the library"
   ]
  },
  {
   "cell_type": "markdown",
   "id": "2d9c4d27",
   "metadata": {},
   "source": [
    "A list of pre-requisites and step-by-step instructions to install the _CyptographicEstimators_ library are [here](https://github.com/Crypto-TII/cryptographic_estimators)."
   ]
  },
  {
   "cell_type": "markdown",
   "id": "6a821009",
   "metadata": {},
   "source": [
    "## 2. Using the Estimators"
   ]
  },
  {
   "cell_type": "markdown",
   "id": "47f78c29",
   "metadata": {},
   "source": [
    "### 2.1. Importing estimators "
   ]
  },
  {
   "cell_type": "markdown",
   "id": "9d91a81a",
   "metadata": {},
   "source": [
    "The estimator class of the _Example problem_ is imported from the by executing: <br />\n",
    "<br />\n",
    "`from cryptographic_estimators.ExampleEstimator import ExampleEstimator`"
   ]
  },
  {
   "cell_type": "markdown",
   "id": "1013ff1e",
   "metadata": {},
   "source": [
    "For instance, to import the estimator class of the _Binary Syndrome Decoding (SD)_ problem we execute "
   ]
  },
  {
   "cell_type": "code",
   "execution_count": 1,
   "id": "2f095228",
   "metadata": {},
   "outputs": [],
   "source": [
    "from cryptographic_estimators.SDEstimator import SDEstimator"
   ]
  },
  {
   "cell_type": "markdown",
   "id": "7ced7bc3",
   "metadata": {},
   "source": [
    "to import the estimator class of the _Multivariate Quadratic (MQ)_ problem we execute"
   ]
  },
  {
   "cell_type": "code",
   "execution_count": 2,
   "id": "e037add5",
   "metadata": {},
   "outputs": [],
   "source": [
    "from cryptographic_estimators.MQEstimator import MQEstimator"
   ]
  },
  {
   "cell_type": "markdown",
   "id": "6e4f58b9-4a64-4746-bbc4-910890bc424f",
   "metadata": {},
   "source": [
    "Further estimators available in the library to date are the `PKEstimator` for the _permuted kernel problem_, the `PEEstimator` for the _permutation equivalence problem_, the `LEEstimator` for the _linear equivalence problem_ and the `SDFqEstimator` for the _syndrome decoding problem over Fq_"
   ]
  },
  {
   "cell_type": "markdown",
   "id": "e7735215",
   "metadata": {},
   "source": [
    "### 2.2. Creating estimator objects"
   ]
  },
  {
   "cell_type": "markdown",
   "id": "ac028439",
   "metadata": {},
   "source": [
    "An estimator of the hardness of the _Example_ problem with $p_1=10$ and $p_2=7$ is created by running: `ExampleEstimator(p1=10, p2=7)`."
   ]
  },
  {
   "cell_type": "markdown",
   "id": "00278124",
   "metadata": {},
   "source": [
    "The following code creates an estimator of the SD problem with code length $n = 100$, code dimension $k = 50$ and weigth $w = 10$ "
   ]
  },
  {
   "cell_type": "code",
   "execution_count": 3,
   "id": "dbb50344",
   "metadata": {},
   "outputs": [],
   "source": [
    "from cryptographic_estimators.SDEstimator import SDEstimator\n",
    "SDE = SDEstimator(n=20, k=10, w=10)"
   ]
  },
  {
   "cell_type": "markdown",
   "id": "4687a5e8",
   "metadata": {},
   "source": [
    "The following code creates an estimator of the MQ problem $n = 15$ variables and $m = 17$ equations over a field with $q = 2$ elements."
   ]
  },
  {
   "cell_type": "code",
   "execution_count": 4,
   "id": "95365442",
   "metadata": {},
   "outputs": [],
   "source": [
    "from cryptographic_estimators.MQEstimator import MQEstimator\n",
    "MQE = MQEstimator(n=15, m=17, q=2)"
   ]
  },
  {
   "cell_type": "markdown",
   "id": "8bcd8850-ed57-499e-9880-24efc73eec42",
   "metadata": {},
   "source": [
    "An overview of the complexity of all algorithms solving the problem can be obtained via the `table` function."
   ]
  },
  {
   "cell_type": "code",
   "execution_count": 5,
   "id": "98107306-980f-4a16-81bb-48870beb31fa",
   "metadata": {},
   "outputs": [
    {
     "name": "stdout",
     "output_type": "stream",
     "text": [
      "+------------------+---------------+\n",
      "|                  |    estimate   |\n",
      "+------------------+------+--------+\n",
      "| algorithm        | time | memory |\n",
      "+------------------+------+--------+\n",
      "| Bjorklund        | 42.5 |   15.3 |\n",
      "| BooleanSolveFXL  | 20.3 |   11.9 |\n",
      "| Crossbred        | 17.7 |   17.2 |\n",
      "| DinurFirst       | 32.1 |   19.5 |\n",
      "| DinurSecond      | 20.3 |   15.8 |\n",
      "| ExhaustiveSearch | 18.0 |   11.9 |\n",
      "| F5               | 27.9 |   23.2 |\n",
      "| HybridF5         | 21.3 |   11.9 |\n",
      "| Lokshtanov       | 67.1 |   16.1 |\n",
      "+------------------+------+--------+\n"
     ]
    }
   ],
   "source": [
    "MQE.table()"
   ]
  },
  {
   "cell_type": "markdown",
   "id": "544fe335-cb2a-42ba-942b-46f08c65c352",
   "metadata": {},
   "source": [
    "The table function offers various customizations. We detail the most important ones at the end of this user guide. For a full list of features please see the full [documentation](https://crypto-tii.github.io/cryptographic_estimators/)."
   ]
  },
  {
   "cell_type": "markdown",
   "id": "3d2b671f",
   "metadata": {},
   "source": [
    "#### Associated algorithms "
   ]
  },
  {
   "cell_type": "markdown",
   "id": "583a4125",
   "metadata": {},
   "source": [
    "When an estimator object is created it creates a set of algorithm objects associated with it. Each of these algorithms implements an estimator of the complexity of the algorithm having the same name.<br />\n",
    "\n",
    "We use the method `algorithms_names()` to get the **names** of the algorithms solving the input instance for which there is an implemented estimator in the _CyptographicEstimators_ library. "
   ]
  },
  {
   "cell_type": "markdown",
   "id": "af281ed3",
   "metadata": {},
   "source": [
    "From the output of the following code, we know that the `Crossbred` algorithm can be used to solve an instances of the MQ problem with parameters $n = 15$ variables and $m = 17$ equations over a field with $q = 2$ elements. And there is a module estimating the complexity of `Crossbred`. "
   ]
  },
  {
   "cell_type": "code",
   "execution_count": 6,
   "id": "d8308566",
   "metadata": {},
   "outputs": [
    {
     "data": {
      "text/plain": [
       "['Bjorklund',\n",
       " 'BooleanSolveFXL',\n",
       " 'Crossbred',\n",
       " 'DinurFirst',\n",
       " 'DinurSecond',\n",
       " 'ExhaustiveSearch',\n",
       " 'F5',\n",
       " 'HybridF5',\n",
       " 'Lokshtanov']"
      ]
     },
     "execution_count": 6,
     "metadata": {},
     "output_type": "execute_result"
    }
   ],
   "source": [
    "from cryptographic_estimators.MQEstimator import MQEstimator\n",
    "MQE = MQEstimator(n=15, m=17, q=2)\n",
    "MQE.algorithm_names()"
   ]
  },
  {
   "cell_type": "markdown",
   "id": "a4630493",
   "metadata": {},
   "source": [
    "Only algorithms applicable for the specified parameters are listed. If we change _q_ to 3 we see a different output. For example `DinurFirst` is  missing in the following example, as this algorithm only works over binary fields."
   ]
  },
  {
   "cell_type": "code",
   "execution_count": 7,
   "id": "923bca74",
   "metadata": {},
   "outputs": [
    {
     "data": {
      "text/plain": [
       "['BooleanSolveFXL',\n",
       " 'Crossbred',\n",
       " 'ExhaustiveSearch',\n",
       " 'F5',\n",
       " 'HybridF5',\n",
       " 'Lokshtanov']"
      ]
     },
     "execution_count": 7,
     "metadata": {},
     "output_type": "execute_result"
    }
   ],
   "source": [
    "from cryptographic_estimators.MQEstimator import MQEstimator\n",
    "MQE = MQEstimator(n=15, m=17, q=3)\n",
    "MQE.algorithm_names()"
   ]
  },
  {
   "cell_type": "markdown",
   "id": "b6c31aba",
   "metadata": {},
   "source": [
    "We can use the method `algorithms()` to get the full list of algorithm objects associated with the estimator. "
   ]
  },
  {
   "cell_type": "code",
   "execution_count": 8,
   "id": "c109aba3",
   "metadata": {
    "scrolled": true
   },
   "outputs": [
    {
     "data": {
      "text/plain": [
       "[Björklund et al. estimator for the MQ problem with 15 variables and 17 polynomials,\n",
       " BooleanSolveFXL estimator for the MQ problem with 15 variables and 17 polynomials,\n",
       " Crossbred estimator for the MQ problem with 15 variables and 17 polynomials,\n",
       " Dinur1 estimator for the MQ problem with 15 variables and 17 polynomials,\n",
       " Dinur2 estimator for the MQ problem with 15 variables and 17 polynomials,\n",
       " ExhaustiveSearch estimator for the MQ problem with 15 variables and 17 polynomials,\n",
       " F5 estimator for the MQ problem with 15 variables and 17 polynomials,\n",
       " HybridF5 estimator for the MQ problem with 15 variables and 17 polynomials,\n",
       " Lokshtanov et al. estimator for the MQ problem with 15 variables and 17 polynomials]"
      ]
     },
     "execution_count": 8,
     "metadata": {},
     "output_type": "execute_result"
    }
   ],
   "source": [
    "from cryptographic_estimators.MQEstimator import MQEstimator\n",
    "MQE = MQEstimator(n=15, m=17, q=2)\n",
    "MQE.algorithms()"
   ]
  },
  {
   "cell_type": "markdown",
   "id": "2362cdac",
   "metadata": {},
   "source": [
    "We can also excluded certain (otherwise applicable) algorithms from the estimator. This prevents the corresponding algorithm object to be created during the Estimator's initialization. We use the argument `excluded_algorithms`, to list the algorithms we do not want to be included. \n",
    "\n",
    "In the next example we exclude the algorithms `BooleanSolveFXL`, `F5`, and`Crossbred`."
   ]
  },
  {
   "cell_type": "code",
   "execution_count": 9,
   "id": "cf0bbbe5",
   "metadata": {},
   "outputs": [
    {
     "data": {
      "text/plain": [
       "['ExhaustiveSearch', 'HybridF5', 'Lokshtanov']"
      ]
     },
     "execution_count": 9,
     "metadata": {},
     "output_type": "execute_result"
    }
   ],
   "source": [
    "from cryptographic_estimators.MQEstimator import MQEstimator\n",
    "from cryptographic_estimators.MQEstimator.MQAlgorithms import BooleanSolveFXL, F5, Crossbred\n",
    "MQE = MQEstimator(n=15, m=17, q=3, excluded_algorithms = [BooleanSolveFXL, F5, Crossbred])\n",
    "MQE.algorithm_names()"
   ]
  },
  {
   "cell_type": "markdown",
   "id": "e9e76ea0",
   "metadata": {},
   "source": [
    "#### Accessing associated algorithms"
   ]
  },
  {
   "cell_type": "markdown",
   "id": "a692676a",
   "metadata": {},
   "source": [
    "Algoirthm objects can be individually accessed via `Estimator.<Algorithm Name>`. For instance, to get an estimator of the complexity of the `Crossbred` algorithm on an MQ problem $n = 15$ variables and $m = 17$ equations over a field with $q = 2$ elements we run: "
   ]
  },
  {
   "cell_type": "code",
   "execution_count": 10,
   "id": "6a8fa5fe",
   "metadata": {},
   "outputs": [
    {
     "data": {
      "text/plain": [
       "Crossbred estimator for the MQ problem with 15 variables and 17 polynomials"
      ]
     },
     "execution_count": 10,
     "metadata": {},
     "output_type": "execute_result"
    }
   ],
   "source": [
    "from cryptographic_estimators.MQEstimator import MQEstimator\n",
    "MQE = MQEstimator(n=15, m=17, q=3)\n",
    "MQE.crossbred"
   ]
  },
  {
   "cell_type": "markdown",
   "id": "ffdd210e",
   "metadata": {},
   "source": [
    "## 3. Complexities of individual algorithms"
   ]
  },
  {
   "cell_type": "markdown",
   "id": "5fc73eac",
   "metadata": {},
   "source": [
    "Here we show how to obtain complexity estimates of individual algorithms.\n",
    "\n",
    "_Understanding the complexity estimates_: By default\n",
    "\n",
    "   1. The **time complexity** is given as the logarithm in base 2 of the total number of bit operations the underlying algorithm executes for solving the problem. \n",
    "   2. The **memory complexity** is given as the logarithm in base 2 of the total number of bits the underlying algorithm needs to store at . "
   ]
  },
  {
   "cell_type": "markdown",
   "id": "ede9571c",
   "metadata": {},
   "source": [
    "### 3.1. Estimates for specific parameters"
   ]
  },
  {
   "cell_type": "markdown",
   "id": "7182c5b4",
   "metadata": {},
   "source": [
    "The next line creates an estimator of Stern's algorithm for an instance of the SD problem with code length $n = 100$, code dimension $k = 50$ and weight $w = 10$ "
   ]
  },
  {
   "cell_type": "code",
   "execution_count": 11,
   "id": "2f698ce4",
   "metadata": {},
   "outputs": [],
   "source": [
    "from cryptographic_estimators.SDEstimator import SDEstimator\n",
    "SDE = SDEstimator(n=100, k=50, w=10)\n",
    "Stern = SDE.stern"
   ]
  },
  {
   "cell_type": "markdown",
   "id": "48c1e364",
   "metadata": {},
   "source": [
    "The method `parameter_names()` returns the list of parameters of the associated algorithm. <br />\n",
    "<br />\n",
    "To obtain a list of parameter-names of the Stern algorithm we run"
   ]
  },
  {
   "cell_type": "code",
   "execution_count": 12,
   "id": "304ee0d2",
   "metadata": {
    "scrolled": true
   },
   "outputs": [
    {
     "data": {
      "text/plain": [
       "['r', 'l', 'p']"
      ]
     },
     "execution_count": 12,
     "metadata": {},
     "output_type": "execute_result"
    }
   ],
   "source": [
    "Stern.parameter_names()"
   ]
  },
  {
   "cell_type": "markdown",
   "id": "6de801b0",
   "metadata": {},
   "source": [
    "We can compute the time and memory complexities of an algorithm with its parameters taking specific values. <br />\n",
    "<br />\n",
    "The next two lines compute the time and memory complexities of the Stern algorithm with $r =2$, $p = 3$ and $l=4$"
   ]
  },
  {
   "cell_type": "code",
   "execution_count": 13,
   "id": "b2ada648",
   "metadata": {},
   "outputs": [
    {
     "data": {
      "text/plain": [
       "28.839332187288115"
      ]
     },
     "execution_count": 13,
     "metadata": {},
     "output_type": "execute_result"
    }
   ],
   "source": [
    "Stern.time_complexity(r=2, p=3, l=4)"
   ]
  },
  {
   "cell_type": "code",
   "execution_count": 14,
   "id": "95265784",
   "metadata": {
    "scrolled": true
   },
   "outputs": [
    {
     "data": {
      "text/plain": [
       "18.828111685180072"
      ]
     },
     "execution_count": 14,
     "metadata": {},
     "output_type": "execute_result"
    }
   ],
   "source": [
    "Stern.memory_complexity(r=2, p=3, l=4)"
   ]
  },
  {
   "cell_type": "markdown",
   "id": "86e709d6",
   "metadata": {},
   "source": [
    "#### Complexity type"
   ]
  },
  {
   "cell_type": "markdown",
   "id": "006f38b3",
   "metadata": {},
   "source": [
    "The attribute `complexity_type` sets the mode to which complexities computed by the estimator refer.\n",
    "\n",
    "Currently the _CryptographicEstimators_ library supports up two types of complexity: \n",
    "`Estimate` and `TildeO`.\n",
    "\n",
    "The `Estimate` mode uses the most precise formula (according to the state-of-the-art) of the cost of an algorithm \n",
    "to solve the input problem. In this mode, all constant and polynomial\n",
    "factors of the cost are taken into account.\n",
    "\n",
    "The `TildeO` mode uses an asymptotic approximation of the costs. This mode might disregard polylogarithmic factors."
   ]
  },
  {
   "cell_type": "markdown",
   "id": "c6027c38",
   "metadata": {},
   "source": [
    "`complexity_type = 0` sets the `Estimate` mode, while `complexity_type=1` the `TildeO` one. By default every estimator is in the `Estimate` mode."
   ]
  },
  {
   "cell_type": "code",
   "execution_count": 15,
   "id": "645fa495",
   "metadata": {},
   "outputs": [
    {
     "data": {
      "text/plain": [
       "0"
      ]
     },
     "execution_count": 15,
     "metadata": {},
     "output_type": "execute_result"
    }
   ],
   "source": [
    "from cryptographic_estimators.SDEstimator import SDEstimator\n",
    "SDE = SDEstimator(n=100, k=50, w=10)\n",
    "Stern = SDE.stern\n",
    "Stern.complexity_type"
   ]
  },
  {
   "cell_type": "markdown",
   "id": "6a6d8028",
   "metadata": {},
   "source": [
    "Now we switch to the `TildeO` mode and compute time and memory complexity in this mode."
   ]
  },
  {
   "cell_type": "code",
   "execution_count": 16,
   "id": "c974c874",
   "metadata": {},
   "outputs": [],
   "source": [
    "Stern.complexity_type = 1"
   ]
  },
  {
   "cell_type": "code",
   "execution_count": 17,
   "id": "661f3a09",
   "metadata": {},
   "outputs": [
    {
     "data": {
      "text/plain": [
       "inf"
      ]
     },
     "execution_count": 17,
     "metadata": {},
     "output_type": "execute_result"
    }
   ],
   "source": [
    "Stern.time_complexity(r=2, p=3, l=4)"
   ]
  },
  {
   "cell_type": "code",
   "execution_count": 18,
   "id": "25c120ed",
   "metadata": {},
   "outputs": [
    {
     "data": {
      "text/plain": [
       "inf"
      ]
     },
     "execution_count": 18,
     "metadata": {},
     "output_type": "execute_result"
    }
   ],
   "source": [
    "Stern.memory_complexity(r=2, p=3, l=4)"
   ]
  },
  {
   "cell_type": "markdown",
   "id": "fede12c9-7017-4f37-a76b-6eadac77014d",
   "metadata": {},
   "source": [
    "> **Hint:** It is possible to update the complexity type of all algorithms associated with the estimator via"
   ]
  },
  {
   "cell_type": "code",
   "execution_count": 19,
   "id": "7c47a337-c84d-455b-9c8b-eaefe7c62d50",
   "metadata": {},
   "outputs": [
    {
     "data": {
      "text/plain": [
       "1"
      ]
     },
     "execution_count": 19,
     "metadata": {},
     "output_type": "execute_result"
    }
   ],
   "source": [
    "SDE.complexity_type = 1\n",
    "SDE.prange.complexity_type"
   ]
  },
  {
   "cell_type": "markdown",
   "id": "e4e1b6e5",
   "metadata": {},
   "source": [
    "#### Bit complexities\n",
    "\n",
    "The attribute `bit_complexities` defines whether the complexities are given in bits or in elementary operations/elements. By default, `bit_complexities = 1`.\n",
    "\n",
    "If `bit_complexities = 1`, then the time complexity counts for the number of binary operations, while the memory complexity counts the number of bits of memory, both in a logarithmic scale.\n",
    "\n",
    "If `bit_complexities = 0`, then time complexity counts the number of elementary operations computed, while the memory complexity counts the number of elementary elements stored, both in a logarithmic scale.\n",
    "\n",
    "This attribute has an effect when the estimator is in the `Estimate` mode. Otherwise, it has no effect."
   ]
  },
  {
   "cell_type": "code",
   "execution_count": 20,
   "id": "62d8a3c3",
   "metadata": {},
   "outputs": [
    {
     "data": {
      "text/plain": [
       "1"
      ]
     },
     "execution_count": 20,
     "metadata": {},
     "output_type": "execute_result"
    }
   ],
   "source": [
    "from cryptographic_estimators.SDEstimator import SDEstimator\n",
    "SDE = SDEstimator(n=100, k=50, w=10)\n",
    "Stern = SDE.stern\n",
    "Stern.bit_complexities"
   ]
  },
  {
   "cell_type": "code",
   "execution_count": 21,
   "id": "9d0eff88",
   "metadata": {},
   "outputs": [],
   "source": [
    "Stern.bit_complexities = 0"
   ]
  },
  {
   "cell_type": "code",
   "execution_count": 22,
   "id": "794ca16b",
   "metadata": {},
   "outputs": [
    {
     "data": {
      "text/plain": [
       "22.19547599751339"
      ]
     },
     "execution_count": 22,
     "metadata": {},
     "output_type": "execute_result"
    }
   ],
   "source": [
    "Stern.time_complexity(r=2, p=3, l=4)"
   ]
  },
  {
   "cell_type": "code",
   "execution_count": 23,
   "id": "2b003fb9",
   "metadata": {},
   "outputs": [
    {
     "data": {
      "text/plain": [
       "12.184255495405349"
      ]
     },
     "execution_count": 23,
     "metadata": {},
     "output_type": "execute_result"
    }
   ],
   "source": [
    "Stern.memory_complexity(r=2, p=3, l=4)"
   ]
  },
  {
   "cell_type": "code",
   "execution_count": 24,
   "id": "225858a9",
   "metadata": {},
   "outputs": [
    {
     "data": {
      "text/plain": [
       "0"
      ]
     },
     "execution_count": 24,
     "metadata": {},
     "output_type": "execute_result"
    }
   ],
   "source": [
    "Stern.bit_complexities"
   ]
  },
  {
   "cell_type": "markdown",
   "id": "ce87933b-1023-4b0f-b7bd-3779e7740035",
   "metadata": {},
   "source": [
    "> **Hint:** Similarly the property can be set for all algorithms associated with the estimator via"
   ]
  },
  {
   "cell_type": "code",
   "execution_count": 25,
   "id": "293ddb0e-b9ed-4a9d-8cef-42f415e6529a",
   "metadata": {
    "tags": []
   },
   "outputs": [
    {
     "data": {
      "text/plain": [
       "0"
      ]
     },
     "execution_count": 25,
     "metadata": {},
     "output_type": "execute_result"
    }
   ],
   "source": [
    "SDE.bit_complexities=0\n",
    "SDE.prange.bit_complexities"
   ]
  },
  {
   "cell_type": "markdown",
   "id": "f2d4e1d1",
   "metadata": {},
   "source": [
    "#### Memory access cost"
   ]
  },
  {
   "cell_type": "markdown",
   "id": "e7c22264",
   "metadata": {},
   "source": [
    "The `memory_access` cost indicates how the memory affects the running time of the algorithm.\n",
    "\n",
    "If $T$ is the complexity of an algorithm in terms of the number of bits or basic operations (depending on the `bit_complexities` attribute), then the total cost including the memory access is defined by $T_M = T \\cdot f(M)$, where $M$ is the memory usage of the algorithm in bits or unit elements (again depending on the `bit_complexities` attribute).  <br />\n",
    "\n",
    "`memory_access` can be set to `0, 1, 2` or `3`. By default `memory_access = 0`, and\n",
    "\n",
    "1. `memory_access = 0`, indicates that the $f(M) = 1$.\n",
    "2. `memory_access = 1`, indicates that the $f(M) = \\log_2{M}$.\n",
    "3. `memory_access = 2`, indicates that the $f(M) = \\sqrt{M}$.\n",
    "4. `memory_access = 3`, indicates that the $f(M) = \\sqrt[3]{M}$.\n",
    "\n",
    "\n",
    "The `memory_access` cost only has an effect when the algorithm is in the `Estimate` mode. "
   ]
  },
  {
   "cell_type": "code",
   "execution_count": 26,
   "id": "6d31406d",
   "metadata": {},
   "outputs": [
    {
     "data": {
      "text/plain": [
       "0"
      ]
     },
     "execution_count": 26,
     "metadata": {},
     "output_type": "execute_result"
    }
   ],
   "source": [
    "from cryptographic_estimators.SDEstimator import SDEstimator\n",
    "SDE = SDEstimator(n=100, k=50, w=10)\n",
    "Stern = SDE.stern\n",
    "Stern.memory_access"
   ]
  },
  {
   "cell_type": "code",
   "execution_count": 27,
   "id": "4c7447f0",
   "metadata": {},
   "outputs": [],
   "source": [
    "Stern.memory_access = 2"
   ]
  },
  {
   "cell_type": "code",
   "execution_count": 28,
   "id": "f4f715f5",
   "metadata": {},
   "outputs": [
    {
     "data": {
      "text/plain": [
       "36.85094946571111"
      ]
     },
     "execution_count": 28,
     "metadata": {},
     "output_type": "execute_result"
    }
   ],
   "source": [
    "Stern.time_complexity(r=2, p=3, l=4)"
   ]
  },
  {
   "cell_type": "markdown",
   "id": "55a80e0e",
   "metadata": {},
   "source": [
    "### 3.1. Time and memory complexities"
   ]
  },
  {
   "cell_type": "markdown",
   "id": "8e8d6867",
   "metadata": {},
   "source": [
    "The method `time_complexity` when used without any arguments, provides the minimum time complexity of a specific algorithm considering all possible values for its optimization parameters.\n",
    "\n",
    "The method `memory_complexity` when used without any arguments, provides the memory complexity associated with the configuration leading to minimal time complexity."
   ]
  },
  {
   "cell_type": "markdown",
   "id": "e7ba7a34",
   "metadata": {},
   "source": [
    "To compute the time complexity of the Stern algorithm to solve an SD problem with parameters $n=100, k=50, w=10$ we run"
   ]
  },
  {
   "cell_type": "code",
   "execution_count": 29,
   "id": "291cd714",
   "metadata": {},
   "outputs": [
    {
     "data": {
      "text/plain": [
       "22.30294492063104"
      ]
     },
     "execution_count": 29,
     "metadata": {},
     "output_type": "execute_result"
    }
   ],
   "source": [
    "from cryptographic_estimators.SDEstimator import SDEstimator\n",
    "SDE = SDEstimator(n=100, k=50, w=10)\n",
    "Stern = SDE.stern\n",
    "Stern.time_complexity()"
   ]
  },
  {
   "cell_type": "markdown",
   "id": "f4c3911e",
   "metadata": {},
   "source": [
    "The memory complexity is obtained by "
   ]
  },
  {
   "cell_type": "code",
   "execution_count": 30,
   "id": "b78e8eea",
   "metadata": {},
   "outputs": [
    {
     "data": {
      "text/plain": [
       "16.023234556845985"
      ]
     },
     "execution_count": 30,
     "metadata": {},
     "output_type": "execute_result"
    }
   ],
   "source": [
    "Stern.memory_complexity()"
   ]
  },
  {
   "cell_type": "markdown",
   "id": "948aa29f",
   "metadata": {},
   "source": [
    "To estimate the time and memory, the Stern estimator exhaustively searches for the parameters of the Stern algorithm that minimize the time complexity, and stores them."
   ]
  },
  {
   "cell_type": "markdown",
   "id": "6f2905a2",
   "metadata": {},
   "source": [
    "The method `optimal_parameters()` returns the dictionary of parameters minimizing the time complexity. If the dictionary is not yet computed, the estimator will calculate it, store it and return it. <br />\n",
    "\n",
    "\n",
    "The parameters minimizing the time complexity of the Stern algorithm on an SD problem with parameters $n=100, k=50, w=10$ are"
   ]
  },
  {
   "cell_type": "code",
   "execution_count": 31,
   "id": "dd1c0aa7",
   "metadata": {},
   "outputs": [
    {
     "data": {
      "text/plain": [
       "{'r': 4, 'p': 2, 'l': 9}"
      ]
     },
     "execution_count": 31,
     "metadata": {},
     "output_type": "execute_result"
    }
   ],
   "source": [
    "Stern.optimal_parameters()"
   ]
  },
  {
   "cell_type": "markdown",
   "id": "147491ef",
   "metadata": {},
   "source": [
    "In contrast the function `get_optimal_parameters_dict()` returns the optimal parameters dictionary in its current state. Even if the optimal parameters have not been computed yet. For instance, for a fresh instance of the class, the dictionary of optimal parameters is empty."
   ]
  },
  {
   "cell_type": "code",
   "execution_count": 32,
   "id": "3a1c644c",
   "metadata": {},
   "outputs": [
    {
     "data": {
      "text/plain": [
       "{}"
      ]
     },
     "execution_count": 32,
     "metadata": {},
     "output_type": "execute_result"
    }
   ],
   "source": [
    "from cryptographic_estimators.SDEstimator import SDEstimator\n",
    "SDE = SDEstimator(n=100, k=50, w=10)\n",
    "Stern = SDE.stern\n",
    "Stern.get_optimal_parameters_dict()"
   ]
  },
  {
   "cell_type": "markdown",
   "id": "11fbbf7e",
   "metadata": {},
   "source": [
    "The attribute `parameter_ranges` returns the ranges in which each optimal parameter is searched. In the particular case that we are considering, we have"
   ]
  },
  {
   "cell_type": "code",
   "execution_count": 33,
   "id": "3bae76ee",
   "metadata": {},
   "outputs": [
    {
     "data": {
      "text/plain": [
       "{'r': {'min': 0, 'max': 50},\n",
       " 'l': {'min': 0, 'max': 50},\n",
       " 'p': {'min': 0, 'max': 5}}"
      ]
     },
     "execution_count": 33,
     "metadata": {},
     "output_type": "execute_result"
    }
   ],
   "source": [
    "Stern.parameter_ranges"
   ]
  },
  {
   "cell_type": "markdown",
   "id": "4bfe8462",
   "metadata": {},
   "source": [
    "The previous line indicates that the optimal value of $r$ is searched in the interval $[0,50]$, $l$ in $[0,50]$ and $p$ in $[0,5]$."
   ]
  },
  {
   "cell_type": "markdown",
   "id": "a1a8886a",
   "metadata": {},
   "source": [
    "### Reset"
   ]
  },
  {
   "cell_type": "markdown",
   "id": "630dce26",
   "metadata": {},
   "source": [
    "The `reset` function restarts the internal state of an algorithm."
   ]
  },
  {
   "cell_type": "code",
   "execution_count": 34,
   "id": "f53a74c5",
   "metadata": {},
   "outputs": [
    {
     "data": {
      "text/plain": [
       "22.30294492063104"
      ]
     },
     "execution_count": 34,
     "metadata": {},
     "output_type": "execute_result"
    }
   ],
   "source": [
    "from cryptographic_estimators.SDEstimator import SDEstimator\n",
    "SDE = SDEstimator(n=100, k=50, w=10)\n",
    "Stern = SDE.stern\n",
    "Stern.time_complexity()"
   ]
  },
  {
   "cell_type": "code",
   "execution_count": 35,
   "id": "8225cc46",
   "metadata": {},
   "outputs": [
    {
     "data": {
      "text/plain": [
       "{'r': 4, 'p': 2, 'l': 9}"
      ]
     },
     "execution_count": 35,
     "metadata": {},
     "output_type": "execute_result"
    }
   ],
   "source": [
    "Stern.get_optimal_parameters_dict()"
   ]
  },
  {
   "cell_type": "code",
   "execution_count": 36,
   "id": "460ca219",
   "metadata": {},
   "outputs": [
    {
     "data": {
      "text/plain": [
       "{}"
      ]
     },
     "execution_count": 36,
     "metadata": {},
     "output_type": "execute_result"
    }
   ],
   "source": [
    "Stern.reset()\n",
    "Stern.get_optimal_parameters_dict()"
   ]
  },
  {
   "cell_type": "markdown",
   "id": "629324de-0724-4390-b29d-75f8f5907f9f",
   "metadata": {},
   "source": [
    "> **Hint:** The same method is applicable to the estimator object. It resets the estimator as well as all associated algorithm objects"
   ]
  },
  {
   "cell_type": "code",
   "execution_count": 37,
   "id": "b4dc2eb5-78e0-4766-8857-d5c4810277c1",
   "metadata": {},
   "outputs": [
    {
     "data": {
      "text/plain": [
       "{}"
      ]
     },
     "execution_count": 37,
     "metadata": {},
     "output_type": "execute_result"
    }
   ],
   "source": [
    "SDE = SDEstimator(n=100, k=50, w=10)\n",
    "Stern = SDE.stern\n",
    "Stern.time_complexity()\n",
    "SDE.reset()\n",
    "Stern.get_optimal_parameters_dict()"
   ]
  },
  {
   "cell_type": "markdown",
   "id": "9e47cfb6-e368-4682-8b0f-0bae70c4413a",
   "metadata": {},
   "source": [
    "> **Note:** When changing the complexity type of an Estimator or Algorithm object, its reset function will be autmatically called."
   ]
  },
  {
   "cell_type": "markdown",
   "id": "6b1cdc59",
   "metadata": {},
   "source": [
    "### 3.3. Customizing complexity optimization"
   ]
  },
  {
   "cell_type": "markdown",
   "id": "6ba6720f",
   "metadata": {},
   "source": [
    "Here we show how to customize the optimization of the time complexity."
   ]
  },
  {
   "cell_type": "markdown",
   "id": "e5904e3b",
   "metadata": {},
   "source": [
    "#### Set optimal parameters"
   ]
  },
  {
   "cell_type": "markdown",
   "id": "2616b638",
   "metadata": {},
   "source": [
    "We can fix one or several parameters of an algorithm to a specific value while optimizing the time complexity. This is done by using the method `set_parameters`"
   ]
  },
  {
   "cell_type": "markdown",
   "id": "7df81e97",
   "metadata": {},
   "source": [
    "In the following example we set $l = 3$ and $p=1$ in Stern's algorithm estimator"
   ]
  },
  {
   "cell_type": "code",
   "execution_count": 38,
   "id": "b76cf9cc",
   "metadata": {},
   "outputs": [],
   "source": [
    "from cryptographic_estimators.SDEstimator import SDEstimator\n",
    "SDE = SDEstimator(n=100, k=50, w=10)\n",
    "Stern = SDE.stern\n",
    "Stern.set_parameters({'p':1, 'l':3})"
   ]
  },
  {
   "cell_type": "markdown",
   "id": "32b66437",
   "metadata": {},
   "source": [
    "Now we can find the parameter sets minimizing the time complexity under the restriction $l = 3$ and $p=1$."
   ]
  },
  {
   "cell_type": "code",
   "execution_count": 39,
   "id": "5d4998d4",
   "metadata": {},
   "outputs": [
    {
     "data": {
      "text/plain": [
       "23.35379970503515"
      ]
     },
     "execution_count": 39,
     "metadata": {},
     "output_type": "execute_result"
    }
   ],
   "source": [
    "Stern.time_complexity()"
   ]
  },
  {
   "cell_type": "markdown",
   "id": "7a32d6bc",
   "metadata": {},
   "source": [
    "Optimal parameters under the restriction $l = 3$ and $p=1$ are"
   ]
  },
  {
   "cell_type": "code",
   "execution_count": 40,
   "id": "a5e1161b",
   "metadata": {},
   "outputs": [
    {
     "data": {
      "text/plain": [
       "{'p': 1, 'l': 3, 'r': 4}"
      ]
     },
     "execution_count": 40,
     "metadata": {},
     "output_type": "execute_result"
    }
   ],
   "source": [
    "Stern.optimal_parameters()"
   ]
  },
  {
   "cell_type": "markdown",
   "id": "938ceb77",
   "metadata": {},
   "source": [
    "#### Configure parameter ranges"
   ]
  },
  {
   "cell_type": "markdown",
   "id": "1f39bd14",
   "metadata": {},
   "source": [
    "We can modify the range where a particular parameter is optimized by using the method `set_parameter_ranges()`."
   ]
  },
  {
   "cell_type": "markdown",
   "id": "931ad156",
   "metadata": {},
   "source": [
    "In the next example we set the interval $[1, 3]$ to be the optimization range of the parameter $p$ in Stern's algorithm estimator. This forces the optimal value of $p$ to be between 1 and 3."
   ]
  },
  {
   "cell_type": "code",
   "execution_count": 41,
   "id": "d108f7f6",
   "metadata": {},
   "outputs": [
    {
     "data": {
      "text/plain": [
       "{'r': {'min': 0, 'max': 50},\n",
       " 'l': {'min': 0, 'max': 50},\n",
       " 'p': {'min': 1, 'max': 3}}"
      ]
     },
     "execution_count": 41,
     "metadata": {},
     "output_type": "execute_result"
    }
   ],
   "source": [
    "from cryptographic_estimators.SDEstimator import SDEstimator\n",
    "SDE = SDEstimator(n=100, k=50, w=10)\n",
    "Stern = SDE.stern\n",
    "Stern.set_parameter_ranges(parameter='p', min_value=1, max_value=3)\n",
    "Stern.parameter_ranges"
   ]
  },
  {
   "cell_type": "code",
   "execution_count": 42,
   "id": "a841aca4",
   "metadata": {},
   "outputs": [
    {
     "data": {
      "text/plain": [
       "{'r': 4, 'p': 1, 'l': 3}"
      ]
     },
     "execution_count": 42,
     "metadata": {},
     "output_type": "execute_result"
    }
   ],
   "source": [
    "Stern.optimal_parameters()"
   ]
  },
  {
   "cell_type": "markdown",
   "id": "cbcfdcb8",
   "metadata": {},
   "source": [
    "#### memory bound"
   ]
  },
  {
   "cell_type": "markdown",
   "id": "ea2d9505",
   "metadata": {},
   "source": [
    "We use the `problem.memory_bound` attribute to optimize the time complexity under the constraint that the corresponding memory complexity does not exceed the memory bound. By default `problem.memory_bound` is set to infinity."
   ]
  },
  {
   "cell_type": "code",
   "execution_count": 43,
   "id": "5b0ae750",
   "metadata": {},
   "outputs": [
    {
     "data": {
      "text/plain": [
       "inf"
      ]
     },
     "execution_count": 43,
     "metadata": {},
     "output_type": "execute_result"
    }
   ],
   "source": [
    "from cryptographic_estimators.SDEstimator import SDEstimator\n",
    "SDE = SDEstimator(n=100, k=50, w=10)\n",
    "Stern = SDE.stern\n",
    "Stern.problem.memory_bound "
   ]
  },
  {
   "cell_type": "markdown",
   "id": "a248d8f1",
   "metadata": {},
   "source": [
    "Now we set the memory bound to $2^{15}$"
   ]
  },
  {
   "cell_type": "code",
   "execution_count": 44,
   "id": "83ef2115",
   "metadata": {},
   "outputs": [],
   "source": [
    "Stern.problem.memory_bound = 15"
   ]
  },
  {
   "cell_type": "code",
   "execution_count": 45,
   "id": "b8f674d5",
   "metadata": {},
   "outputs": [
    {
     "data": {
      "text/plain": [
       "True"
      ]
     },
     "execution_count": 45,
     "metadata": {},
     "output_type": "execute_result"
    }
   ],
   "source": [
    "Stern.memory_complexity() < 15"
   ]
  },
  {
   "cell_type": "markdown",
   "source": [
    "Additionally, you can directly limit the memory for all algorithms of an estimator."
   ],
   "metadata": {
    "collapsed": false
   }
  },
  {
   "cell_type": "code",
   "execution_count": null,
   "outputs": [],
   "source": [
    "from cryptographic_estimators.SDEstimator import SDEstimator\n",
    "SDE = SDEstimator(n=100, k=50, w=10, memory_bound=15)"
   ],
   "metadata": {
    "collapsed": false
   }
  },
  {
   "cell_type": "markdown",
   "id": "ece33722",
   "metadata": {},
   "source": [
    "## 4. Complexities of several algorithms"
   ]
  },
  {
   "cell_type": "markdown",
   "id": "96b5c44a",
   "metadata": {},
   "source": [
    "We can customize and manage the complexities of several algorithms attached to an estimator object from the estimator itself."
   ]
  },
  {
   "cell_type": "markdown",
   "id": "76b24960",
   "metadata": {},
   "source": [
    "### 4.1. Computing and visualizing estimates"
   ]
  },
  {
   "cell_type": "markdown",
   "id": "06331d73",
   "metadata": {},
   "source": [
    "The estimation process starts by calling the `estimate()` method. It returns a dictionary with the algorithm names, time and memory complexities, and the corresponding dictionary of optimal parameters."
   ]
  },
  {
   "cell_type": "code",
   "execution_count": 46,
   "id": "0bf06212",
   "metadata": {
    "scrolled": true
   },
   "outputs": [
    {
     "data": {
      "text/plain": [
       "{'BooleanSolveFXL': {'estimate': {'time': 29.85822242788859,\n",
       "   'memory': 12.901244032467376,\n",
       "   'parameters': {'k': 14, 'variant': 'las_vegas'}},\n",
       "  'additional_information': {}},\n",
       " 'Crossbred': {'estimate': {'time': 24.117772038209786,\n",
       "   'memory': 17.7247403222648,\n",
       "   'parameters': {'D': 4, 'd': 1, 'k': 7}},\n",
       "  'additional_information': {}},\n",
       " 'ExhaustiveSearch': {'estimate': {'time': 25.40490707466741,\n",
       "   'memory': 12.901244032467376,\n",
       "   'parameters': {}},\n",
       "  'additional_information': {}},\n",
       " 'F5': {'estimate': {'time': 36.87177581110349,\n",
       "   'memory': 31.484561900604888,\n",
       "   'parameters': {}},\n",
       "  'additional_information': {}},\n",
       " 'HybridF5': {'estimate': {'time': 30.0506201089272,\n",
       "   'memory': 12.901244032467376,\n",
       "   'parameters': {'k': 10}},\n",
       "  'additional_information': {}},\n",
       " 'Lokshtanov': {'estimate': {'time': 99.55650866097999,\n",
       "   'memory': 25.266724329355785,\n",
       "   'parameters': {'delta': 1/15}},\n",
       "  'additional_information': {}}}"
      ]
     },
     "execution_count": 46,
     "metadata": {},
     "output_type": "execute_result"
    }
   ],
   "source": [
    "from cryptographic_estimators.MQEstimator import MQEstimator\n",
    "MQE = MQEstimator(n=15, m=17, q=3)\n",
    "MQE.estimate()"
   ]
  },
  {
   "cell_type": "markdown",
   "id": "5b47b1c1",
   "metadata": {},
   "source": [
    "Recall that we can avoid algorithms to be included in the esimator by using the argument `excluded_algorithms`.\n",
    "\n",
    "In the next example we exclude the algorithms ExhaustiveSearch, F5, HybridF5, Lokshtanov."
   ]
  },
  {
   "cell_type": "code",
   "execution_count": 47,
   "id": "ea397625",
   "metadata": {},
   "outputs": [
    {
     "data": {
      "text/plain": [
       "{'BooleanSolveFXL': {'estimate': {'time': 29.85822242788859,\n",
       "   'memory': 12.901244032467376,\n",
       "   'parameters': {'k': 14, 'variant': 'las_vegas'}},\n",
       "  'additional_information': {}},\n",
       " 'Crossbred': {'estimate': {'time': 24.117772038209786,\n",
       "   'memory': 17.7247403222648,\n",
       "   'parameters': {'D': 4, 'd': 1, 'k': 7}},\n",
       "  'additional_information': {}}}"
      ]
     },
     "execution_count": 47,
     "metadata": {},
     "output_type": "execute_result"
    }
   ],
   "source": [
    "from cryptographic_estimators.MQEstimator import MQEstimator\n",
    "from cryptographic_estimators.MQEstimator.MQAlgorithms import ExhaustiveSearch, F5, HybridF5, Lokshtanov\n",
    "MQE = MQEstimator(n=15, m=17, q=3, excluded_algorithms = [ExhaustiveSearch, F5, HybridF5, Lokshtanov])\n",
    "MQE.estimate()"
   ]
  },
  {
   "cell_type": "markdown",
   "id": "69a5fafe",
   "metadata": {},
   "source": [
    "In order to better visualize the provided estimates, one can use directly the method `table()`. This method will internally call the estimate method, if estimates have not been computed before, to get the algorithm estimates in the `Estimate` mode, save them and then print them in a table to ease visualization and comparison."
   ]
  },
  {
   "cell_type": "code",
   "execution_count": 48,
   "id": "3eb404b2",
   "metadata": {},
   "outputs": [
    {
     "name": "stdout",
     "output_type": "stream",
     "text": [
      "+------------------+---------------+\n",
      "|                  |    estimate   |\n",
      "+------------------+------+--------+\n",
      "| algorithm        | time | memory |\n",
      "+------------------+------+--------+\n",
      "| BooleanSolveFXL  | 29.9 |   12.9 |\n",
      "| Crossbred        | 24.1 |   17.7 |\n",
      "| ExhaustiveSearch | 25.4 |   12.9 |\n",
      "| F5               | 36.9 |   31.5 |\n",
      "| HybridF5         | 30.1 |   12.9 |\n",
      "| Lokshtanov       | 99.6 |   25.3 |\n",
      "+------------------+------+--------+\n"
     ]
    }
   ],
   "source": [
    "from cryptographic_estimators.MQEstimator import MQEstimator\n",
    "from cryptographic_estimators.MQEstimator.MQAlgorithms import BooleanSolveFXL, F5, Crossbred\n",
    "MQE = MQEstimator(n=15, m=17, q=3)\n",
    "MQE.table()"
   ]
  },
  {
   "cell_type": "markdown",
   "id": "63379558-0f65-4419-a646-56920bc1355a",
   "metadata": {},
   "source": [
    "Or again with some algorithm being excluded from consideration"
   ]
  },
  {
   "cell_type": "code",
   "execution_count": 49,
   "id": "54732705",
   "metadata": {},
   "outputs": [
    {
     "name": "stdout",
     "output_type": "stream",
     "text": [
      "+-----------------+---------------+\n",
      "|                 |    estimate   |\n",
      "+-----------------+------+--------+\n",
      "| algorithm       | time | memory |\n",
      "+-----------------+------+--------+\n",
      "| BooleanSolveFXL | 29.9 |   12.9 |\n",
      "| Crossbred       | 24.1 |   17.7 |\n",
      "+-----------------+------+--------+\n"
     ]
    }
   ],
   "source": [
    "from cryptographic_estimators.MQEstimator.MQAlgorithms import ExhaustiveSearch, F5, HybridF5, Lokshtanov\n",
    "MQE = MQEstimator(n=15, m=17, q=3, excluded_algorithms = [ExhaustiveSearch, F5, HybridF5, Lokshtanov])\n",
    "MQE.table()"
   ]
  },
  {
   "cell_type": "markdown",
   "id": "0caed5e8",
   "metadata": {},
   "source": [
    "From the previous output we observe that solving an MQ problem with parameters $n=15, m=17,$ and $q=3$, the algorithms ExhaustiveSearch, HybridF5 and Lokshtanov have optimal time complexity of $2^{25.4}$, $2^{30.1}$, and $2^{99.6}$ field multiplications, respectively.\n",
    "\n",
    "An additinal example"
   ]
  },
  {
   "cell_type": "code",
   "execution_count": 50,
   "id": "e3bcb08c",
   "metadata": {},
   "outputs": [
    {
     "name": "stdout",
     "output_type": "stream",
     "text": [
      "+---------------+---------------+\n",
      "|               |    estimate   |\n",
      "+---------------+------+--------+\n",
      "| algorithm     | time | memory |\n",
      "+---------------+------+--------+\n",
      "| BallCollision | 23.3 |   16.0 |\n",
      "| BJMMdw        | 23.4 |   14.7 |\n",
      "| BJMMpdw       | 23.3 |   14.3 |\n",
      "| BJMM          | 22.8 |   15.0 |\n",
      "| BJMM_plus     | 22.8 |   15.0 |\n",
      "| BothMay       | 22.4 |   14.7 |\n",
      "| Dumer         | 22.7 |   16.4 |\n",
      "| MayOzerov     | 22.3 |   14.8 |\n",
      "| Prange        | 28.3 |   12.7 |\n",
      "| Stern         | 22.3 |   16.0 |\n",
      "+---------------+------+--------+\n"
     ]
    }
   ],
   "source": [
    "from cryptographic_estimators.SDEstimator import SDEstimator\n",
    "SDE = SDEstimator(n=100, k=50, w=10)\n",
    "SDE.table()"
   ]
  },
  {
   "cell_type": "markdown",
   "id": "e975bb8a",
   "metadata": {},
   "source": [
    "### 4.2. Customizing estimation and visualization"
   ]
  },
  {
   "cell_type": "markdown",
   "id": "a4cc2c40",
   "metadata": {},
   "source": [
    "#### Visualization"
   ]
  },
  {
   "cell_type": "markdown",
   "id": "9eb14b42",
   "metadata": {},
   "source": [
    "One can input several arguments to the table method:\n",
    "\n",
    "1. `show_all_parameters` allows us to visulize the parameters optimizing the time complexity for the given input. An empty dictionary {} indicates the corresponding algorithm does not have parameters. (default: false)\n",
    "\n",
    "\n",
    "2. `precision` to set the number of decimal digits output (default: 1)\n",
    "\n",
    "\n",
    "3. `truncate` to truncate the output estimates rather than round them (default:\n",
    "     false)"
   ]
  },
  {
   "cell_type": "markdown",
   "id": "59b8c84d",
   "metadata": {},
   "source": [
    "In what follows we observe that, while solving an SD problem with parameters `n=100, k=50, w=10`, the Stern algorithm has an optimal time complexity of $2^{22.3}$ when $r=4$ , $p=2$ and $l = 9$."
   ]
  },
  {
   "cell_type": "code",
   "execution_count": 51,
   "id": "142c1329",
   "metadata": {},
   "outputs": [
    {
     "name": "stdout",
     "output_type": "stream",
     "text": [
      "+---------------+-------------------------------------------------------------------------+\n",
      "|               |                                 estimate                                |\n",
      "+---------------+--------+--------+-------------------------------------------------------+\n",
      "| algorithm     |   time | memory |                       parameters                      |\n",
      "+---------------+--------+--------+-------------------------------------------------------+\n",
      "| BallCollision | 23.290 | 16.023 |           {'r': 4, 'p': 2, 'pl': 0, 'l': 7}           |\n",
      "| BJMMdw        | 23.416 | 14.731 | {'r': 4, 'p': 2, 'p1': 1, 'w1': 0, 'w11': 0, 'w2': 0} |\n",
      "| BJMMpdw       | 23.250 | 14.302 |           {'r': 4, 'p': 2, 'p1': 1, 'w2': 0}          |\n",
      "| BJMM          | 22.778 | 15.027 |     {'r': 4, 'depth': 2, 'p': 2, 'p1': 1, 'l': 8}     |\n",
      "| BJMM_plus     | 22.778 | 15.027 |       {'r': 4, 'p': 2, 'p1': 1, 'l': 8, 'l1': 2}      |\n",
      "| BothMay       | 22.421 | 14.731 |  {'r': 4, 'p': 2, 'w1': 0, 'w2': 0, 'p1': 1, 'l': 2}  |\n",
      "| Dumer         | 22.700 | 16.421 |                {'r': 4, 'l': 8, 'p': 2}               |\n",
      "| MayOzerov     | 22.251 | 14.808 |     {'r': 4, 'depth': 2, 'p': 2, 'p1': 1, 'l': 2}     |\n",
      "| Prange        | 28.291 | 12.688 |                        {'r': 4}                       |\n",
      "| Stern         | 22.302 | 16.023 |                {'r': 4, 'p': 2, 'l': 9}               |\n",
      "+---------------+--------+--------+-------------------------------------------------------+\n"
     ]
    }
   ],
   "source": [
    "from cryptographic_estimators.SDEstimator import SDEstimator\n",
    "SDE = SDEstimator(n=100, k=50, w=10)\n",
    "SDE.table(show_all_parameters=True, precision=3, truncate=True)"
   ]
  },
  {
   "cell_type": "markdown",
   "id": "92542b43",
   "metadata": {},
   "source": [
    "4. `show_tilde_o_time` allows to show the time and memory estimates in the TildeO mode."
   ]
  },
  {
   "cell_type": "code",
   "execution_count": 52,
   "id": "49140b3d",
   "metadata": {},
   "outputs": [
    {
     "name": "stdout",
     "output_type": "stream",
     "text": [
      "+---------------+------------------+---------------+\n",
      "|               | tilde_o_estimate |    estimate   |\n",
      "+---------------+-------+----------+------+--------+\n",
      "| algorithm     |  time |   memory | time | memory |\n",
      "+---------------+-------+----------+------+--------+\n",
      "| BallCollision |  10.4 |      3.3 | 23.3 |   16.0 |\n",
      "| BJMMdw        |    -- |       -- | 23.4 |   14.7 |\n",
      "| BJMMpdw       |    -- |       -- | 23.3 |   14.3 |\n",
      "| BJMM          |   9.0 |      6.8 | 22.8 |   15.0 |\n",
      "| BJMM_plus     |    -- |       -- | 22.8 |   15.0 |\n",
      "| BothMay       |   8.8 |      6.4 | 22.4 |   14.7 |\n",
      "| Dumer         |  10.4 |      3.3 | 22.7 |   16.4 |\n",
      "| MayOzerov     |   8.5 |      7.4 | 22.3 |   14.8 |\n",
      "| Prange        |  10.8 |      0.0 | 28.3 |   12.7 |\n",
      "| Stern         |  10.4 |      2.9 | 22.3 |   16.0 |\n",
      "+---------------+-------+----------+------+--------+\n"
     ]
    }
   ],
   "source": [
    "SDE.table(show_tilde_o_time=True)"
   ]
  },
  {
   "cell_type": "markdown",
   "id": "70a7c5a4",
   "metadata": {},
   "source": [
    "The `--` in the printed table means _Not Implemented Yet_."
   ]
  },
  {
   "cell_type": "markdown",
   "id": "9cc3ad21",
   "metadata": {},
   "source": [
    "#### Estimation "
   ]
  },
  {
   "cell_type": "markdown",
   "id": "a2a46cc4",
   "metadata": {},
   "source": [
    "From an estimator object, one can set a configuration that applies to all the algorithms attached to it. One can set:\n",
    "`complexity_time`, `bit_complexities` or `memory_access` and any other parameter for the specific estimator. \n",
    "All these general configurations are given as input to the estimator class."
   ]
  },
  {
   "cell_type": "markdown",
   "id": "9b9fc9d6",
   "metadata": {},
   "source": [
    "All the algorithms attached to the following estimator object are in the `Estimate` mode, they provide bit complexities, and they have a square root memory access cost of square root, see Section 3."
   ]
  },
  {
   "cell_type": "code",
   "execution_count": 53,
   "id": "e51fae0e",
   "metadata": {},
   "outputs": [
    {
     "name": "stdout",
     "output_type": "stream",
     "text": [
      "0 True 3\n"
     ]
    }
   ],
   "source": [
    "from cryptographic_estimators.MQEstimator import MQEstimator\n",
    "MQE = MQEstimator(n=15, m=17, q=3, complexity_type=0, bit_complexities=True, memory_access=3)\n",
    "Algo = MQE.algorithms()[1]\n",
    "print(Algo.complexity_type, Algo.bit_complexities, Algo.memory_access)"
   ]
  },
  {
   "cell_type": "markdown",
   "id": "6552d79f",
   "metadata": {},
   "source": [
    "To see the `bit_complexities` value of all the algorithms to estimator MQE we run `MQE.bit_complexities`. Similarly, `for complexity_type` and `memory_access`."
   ]
  },
  {
   "cell_type": "code",
   "execution_count": 54,
   "id": "9061ec63",
   "metadata": {},
   "outputs": [
    {
     "data": {
      "text/plain": [
       "[True, True, True, True, True, True]"
      ]
     },
     "execution_count": 54,
     "metadata": {},
     "output_type": "execute_result"
    }
   ],
   "source": [
    "MQE.bit_complexities"
   ]
  },
  {
   "cell_type": "markdown",
   "id": "9e102a54",
   "metadata": {},
   "source": [
    "One can also apply and modify the configuration of one or several algorithms."
   ]
  },
  {
   "cell_type": "markdown",
   "id": "029cc806",
   "metadata": {},
   "source": [
    "In the following example, we set $d=1$ and $D=3$ the optimal parameters of the `Crossbred` algorithm; we left untouched the other algorithms."
   ]
  },
  {
   "cell_type": "code",
   "execution_count": 55,
   "id": "c395c650",
   "metadata": {},
   "outputs": [],
   "source": [
    "from cryptographic_estimators.MQEstimator import MQEstimator\n",
    "MQE = MQEstimator(n=20, m=20, q=3)"
   ]
  },
  {
   "cell_type": "code",
   "execution_count": 56,
   "id": "1f9bcddd",
   "metadata": {},
   "outputs": [],
   "source": [
    "MQE.crossbred.set_parameters({'d':1, 'D':3})"
   ]
  },
  {
   "cell_type": "code",
   "execution_count": 57,
   "id": "8ae66189",
   "metadata": {},
   "outputs": [
    {
     "name": "stdout",
     "output_type": "stream",
     "text": [
      "+------------------+----------------------------------------------------+\n",
      "|                  |                      estimate                      |\n",
      "+------------------+-------+--------+-----------------------------------+\n",
      "| algorithm        |  time | memory |             parameters            |\n",
      "+------------------+-------+--------+-----------------------------------+\n",
      "| BooleanSolveFXL  |  37.8 |   14.0 | {'k': 19, 'variant': 'las_vegas'} |\n",
      "| Crossbred        |  33.5 |    9.9 |      {'d': 1, 'D': 3, 'k': 6}     |\n",
      "| ExhaustiveSearch |  33.5 |   14.0 |                 {}                |\n",
      "| F5               |  45.2 |   39.7 |                 {}                |\n",
      "| HybridF5         |  38.2 |   14.0 |             {'k': 15}             |\n",
      "| Lokshtanov       | 111.2 |   33.2 |          {'delta': 1/20}          |\n",
      "+------------------+-------+--------+-----------------------------------+\n"
     ]
    }
   ],
   "source": [
    "MQE.table(show_all_parameters=True)"
   ]
  },
  {
   "cell_type": "markdown",
   "id": "e91c7f13",
   "metadata": {},
   "source": [
    "### 4.1. Fastest algorithm"
   ]
  },
  {
   "cell_type": "markdown",
   "id": "f827318b",
   "metadata": {},
   "source": [
    "The method `fastest_algorithm()` returns an estimator of the algorithm with the minimum time complexity for the specific import problem"
   ]
  },
  {
   "cell_type": "code",
   "execution_count": 58,
   "id": "7831bfe8",
   "metadata": {},
   "outputs": [
    {
     "data": {
      "text/plain": [
       "Crossbred estimator for the MQ problem with 20 variables and 20 polynomials"
      ]
     },
     "execution_count": 58,
     "metadata": {},
     "output_type": "execute_result"
    }
   ],
   "source": [
    "from cryptographic_estimators.MQEstimator import MQEstimator\n",
    "MQE = MQEstimator(n=20, m=20, q=3)\n",
    "F = MQE.fastest_algorithm()\n",
    "F"
   ]
  },
  {
   "cell_type": "code",
   "execution_count": 59,
   "id": "c8d1f3c0",
   "metadata": {},
   "outputs": [
    {
     "data": {
      "text/plain": [
       "31.051489520604672"
      ]
     },
     "execution_count": 59,
     "metadata": {},
     "output_type": "execute_result"
    }
   ],
   "source": [
    "F.time_complexity()"
   ]
  }
 ],
 "metadata": {
  "kernelspec": {
   "display_name": "SageMath 9.2",
   "language": "sage",
   "name": "sagemath"
  },
  "language_info": {
   "codemirror_mode": {
    "name": "ipython",
    "version": 3
   },
   "file_extension": ".py",
   "mimetype": "text/x-python",
   "name": "python",
   "nbconvert_exporter": "python",
   "pygments_lexer": "ipython3",
   "version": "3.11.1"
  }
 },
 "nbformat": 4,
 "nbformat_minor": 5
}
